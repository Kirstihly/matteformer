{
 "cells": [
  {
   "cell_type": "code",
   "execution_count": 1,
   "id": "8d97bb48",
   "metadata": {},
   "outputs": [],
   "source": [
    "import cv2, glob, os\n",
    "import numpy as np"
   ]
  },
  {
   "cell_type": "code",
   "execution_count": 2,
   "id": "8a154f3a",
   "metadata": {},
   "outputs": [],
   "source": [
    "in_dir = '/home/leyinghu/Documents/data/Real_data0720/images'\n",
    "out_dir = '/home/leyinghu/Documents/data/Real_data0720/trimaps'"
   ]
  },
  {
   "cell_type": "code",
   "execution_count": 3,
   "id": "708765bc",
   "metadata": {},
   "outputs": [],
   "source": [
    "filenames = glob.glob(os.path.join(in_dir, '*.png'))\n",
    "for filename in filenames:\n",
    "    \n",
    "    image = cv2.imread(filename)\n",
    "    h, w = image.shape[:2]\n",
    "    trimap = np.ones((h,w,3)) * 128\n",
    "    \n",
    "    basename = os.path.basename(filename)\n",
    "    cv2.imwrite(os.path.join(out_dir, basename), trimap)\n",
    "    "
   ]
  }
 ],
 "metadata": {
  "kernelspec": {
   "display_name": "Python 3 (ipykernel)",
   "language": "python",
   "name": "python3"
  },
  "language_info": {
   "codemirror_mode": {
    "name": "ipython",
    "version": 3
   },
   "file_extension": ".py",
   "mimetype": "text/x-python",
   "name": "python",
   "nbconvert_exporter": "python",
   "pygments_lexer": "ipython3",
   "version": "3.8.10"
  }
 },
 "nbformat": 4,
 "nbformat_minor": 5
}
